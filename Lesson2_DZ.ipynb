{
 "cells": [
  {
   "cell_type": "code",
   "execution_count": 189,
   "metadata": {},
   "outputs": [
    {
     "name": "stdout",
     "output_type": "stream",
     "text": [
      "[[ 1  6]\n",
      " [ 2  8]\n",
      " [ 3 11]\n",
      " [ 3 10]\n",
      " [ 1  7]]\n",
      "среднее по первому столбцу = 2.0, среднее по первому столбцу = 8.4\n",
      "[[-1.  -2.4]\n",
      " [ 0.  -0.4]\n",
      " [ 1.   2.6]\n",
      " [ 1.   1.6]\n",
      " [-1.  -1.4]]\n",
      "2.0\n",
      "[[1.  2. ]\n",
      " [2.  4.3]]\n",
      "True\n"
     ]
    }
   ],
   "source": [
    "import numpy as np\n",
    "\n",
    "##### NUMPY\n",
    "# Задача 1\n",
    "# Импортируйте библиотеку Numpy и дайте ей псевдоним np.\n",
    "# Создайте массив Numpy под названием a размером 5x2, то есть состоящий из 5 строк и 2 столбцов. \n",
    "# Первый столбец должен содержать числа 1, 2, 3, 3, 1, а второй - числа 6, 8, 11, 10, 7. \n",
    "# Будем считать, что каждый столбец - это признак, а строка - наблюдение. \n",
    "# Затем найдите среднее значение по каждому признаку, используя метод mean массива Numpy. \n",
    "# Результат запишите в массив mean_a, в нем должно быть 2 элемента.\n",
    "\n",
    "a = np.array([[1,6],[2,8],[3,11],[3,10],[1,7]])\n",
    "print(a)\n",
    "mean_a = np.mean(a, axis=0)\n",
    "\n",
    "print(f\"среднее по первому столбцу = {mean_a[0]}, среднее по первому столбцу = {mean_a[1]}\")\n",
    "\n",
    "# Задача 2\n",
    "# Вычислите массив a_centered, отняв от значений массива “а” средние значения соответствующих признаков, \n",
    "# содержащиеся в массиве mean_a. Вычисление должно производиться в одно действие. \n",
    "# Получившийся массив должен иметь размер 5x2.\n",
    "\n",
    "a_centered = a - mean_a\n",
    "print(a_centered)\n",
    "\n",
    "# Задание 3\n",
    "#  Найдите скалярное произведение столбцов массива a_centered. В результате должна получиться \n",
    "# величина a_centered_sp. Затем поделите a_centered_sp на N-1, где N - число наблюдений.\n",
    "\n",
    "# how many observations\n",
    "N = len(a_centered[:,0].tolist())\n",
    "# mult 1st & 2nd column \n",
    "a_centered_sp = np.dot(a_centered[:,0],a_centered[:,1])\n",
    "print(a_centered_sp / (N-1))\n",
    "\n",
    "# Задача 4\n",
    "# Число, которое мы получили в конце задания 3 является ковариацией двух признаков, содержащихся в массиве “а”. \n",
    "# В задании 4 мы делили сумму произведений центрированных признаков на N-1, а не на N, \n",
    "# поэтому полученная нами величина является несмещенной оценкой ковариации.\n",
    "# Подробнее узнать о ковариации можно здесь:\n",
    "# https://studopedia.ru/9_153900_viborochnaya-kovariatsiya-i-viborochnaya-dispersiya.html\n",
    "# В этом задании проверьте получившееся число, вычислив ковариацию еще одним способом - с помощью функции np.cov. \n",
    "# В качестве аргумента m функция np.cov должна принимать транспонированный массив “a”. \n",
    "# В получившейся ковариационной матрице (массив Numpy размером 2x2) искомое значение ковариации \n",
    "# будет равно элементу в строке с индексом 0 и столбце с индексом 1.\n",
    "\n",
    "# embedded covariation\n",
    "cov = np.cov(a.T)\n",
    "print(cov)\n",
    "\n",
    "# Check\n",
    "print(cov[0,1] == a_centered_sp / (N-1))\n"
   ]
  },
  {
   "cell_type": "code",
   "execution_count": 190,
   "metadata": {},
   "outputs": [],
   "source": [
    "##### PANDAS\n",
    "\n",
    "import pandas as pd"
   ]
  },
  {
   "cell_type": "code",
   "execution_count": 191,
   "metadata": {},
   "outputs": [
    {
     "data": {
      "text/plain": [
       "\" Задание 1\\nИмпортируйте библиотеку Pandas и дайте ей псевдоним pd. Создайте датафрейм authors со столбцами author_id \\nи author_name, в которых соответственно содержатся данные: [1, 2, 3] и ['Тургенев', 'Чехов', 'Островский'].\\nЗатем создайте датафрейм book cо столбцами author_id, book_title и price, в которых соответственно содержатся \\nданные: \\n[1, 1, 1, 2, 2, 3, 3], \\n['Отцы и дети', 'Рудин', 'Дворянское гнездо', 'Толстый и тонкий', 'Дама с собачкой', 'Гроза', \\n'Таланты и поклонники'],[450, 300, 350, 500, 450, 370, 290].\""
      ]
     },
     "execution_count": 191,
     "metadata": {},
     "output_type": "execute_result"
    }
   ],
   "source": [
    "\"\"\" Задание 1\n",
    
    "Импортируйте библиотеку Pandas и дайте ей псевдоним pd. Создайте датафрейм authors со столбцами author_id \n",
    "и author_name, в которых соответственно содержатся данные: [1, 2, 3] и ['Тургенев', 'Чехов', 'Островский'].\n",
    "Затем создайте датафрейм book cо столбцами author_id, book_title и price, в которых соответственно содержатся \n",
    "данные: \n",
    "[1, 1, 1, 2, 2, 3, 3], \n",
    "['Отцы и дети', 'Рудин', 'Дворянское гнездо', 'Толстый и тонкий', 'Дама с собачкой', 'Гроза', \n",
    "'Таланты и поклонники'],[450, 300, 350, 500, 450, 370, 290].\"\"\""
   ]
  },
  {
   "cell_type": "code",
   "execution_count": 192,
   "metadata": {},
   "outputs": [
    {
     "name": "stdout",
     "output_type": "stream",
     "text": [
      "   author_id author_name\n",
      "0          1    Тургенев\n",
      "1          2       Чехов\n",
      "2          3  Островский\n"
     ]
    }
   ],
   "source": [
    "author_names = ['Тургенев','Чехов','Островский']\n",
    "authors = pd.DataFrame({'author_id':[1,2,3], 'author_name':author_names})\n",
    "print(authors)"
   ]
  },
  {
   "cell_type": "code",
   "execution_count": 193,
   "metadata": {},
   "outputs": [
    {
     "name": "stdout",
     "output_type": "stream",
     "text": [
      "   author_id            book_title  price\n",
      "0          1           Отцы и дети    450\n",
      "1          1                 Рудин    300\n",
      "2          1     Дворянское гнездо    350\n",
      "3          2      Толстый и тонкий    500\n",
      "4          2       Дама с собачкой    450\n",
      "5          3                 Гроза    370\n",
      "6          3  Таланты и поклонники    290\n"
     ]
    }
   ],
   "source": [
    "books = pd.DataFrame({'author_id':[1, 1, 1, 2, 2, 3, 3],'book_title': ['Отцы и дети', 'Рудин', \n",
    "                                                                       'Дворянское гнездо', 'Толстый и тонкий', \n",
    "                                                                       'Дама с собачкой', 'Гроза', \n",
    "                                                                       'Таланты и поклонники'], \n",
    "                      'price':[450, 300, 350, 500, 450, 370, 290]})\n",
    "print(books)"
   ]
  },
  {
   "cell_type": "code",
   "execution_count": 194,
   "metadata": {},
   "outputs": [
    {
     "data": {
      "text/plain": [
       "'Задание 2\\nПолучите датафрейм authors_price, соединив датафреймы authors и books по полю author_id.'"
      ]
     },
     "execution_count": 194,
     "metadata": {},
     "output_type": "execute_result"
    }
   ],
   "source": [
    "\"\"\"Задание 2\n",
    "Получите датафрейм authors_price, соединив датафреймы authors и books по полю author_id.\"\"\""
   ]
  },
  {
   "cell_type": "code",
   "execution_count": 195,
   "metadata": {},
   "outputs": [
    {
     "name": "stdout",
     "output_type": "stream",
     "text": [
      "   author_id author_name            book_title  price\n",
      "0          1    Тургенев           Отцы и дети    450\n",
      "1          1    Тургенев                 Рудин    300\n",
      "2          1    Тургенев     Дворянское гнездо    350\n",
      "3          2       Чехов      Толстый и тонкий    500\n",
      "4          2       Чехов       Дама с собачкой    450\n",
      "5          3  Островский                 Гроза    370\n",
      "6          3  Островский  Таланты и поклонники    290\n"
     ]
    }
   ],
   "source": [
    "authors_price = pd.merge(authors, books, on='author_id')\n",
    "print(Merged)"
   ]
  },
  {
   "cell_type": "code",
   "execution_count": 196,
   "metadata": {},
   "outputs": [
    {
     "data": {
      "text/plain": [
       "'Задание 3\\nСоздайте датафрейм top5, в котором содержатся строки из authors_price с пятью самыми дорогими книгами.'"
      ]
     },
     "execution_count": 196,
     "metadata": {},
     "output_type": "execute_result"
    }
   ],
   "source": [
    "\"\"\"Задание 3\n",
    "Создайте датафрейм top5, в котором содержатся строки из authors_price с пятью самыми дорогими книгами.\"\"\""
   ]
  },
  {
   "cell_type": "code",
   "execution_count": 197,
   "metadata": {},
   "outputs": [
    {
     "name": "stdout",
     "output_type": "stream",
     "text": [
      "   author_id author_name            book_title  price\n",
      "3          2       Чехов      Толстый и тонкий    500\n",
      "0          1    Тургенев           Отцы и дети    450\n",
      "4          2       Чехов       Дама с собачкой    450\n",
      "5          3  Островский                 Гроза    370\n",
      "2          1    Тургенев     Дворянское гнездо    350\n",
      "1          1    Тургенев                 Рудин    300\n",
      "6          3  Островский  Таланты и поклонники    290\n"
     ]
    }
   ],
   "source": [
    "top = authors_price.sort_values(by='price', ascending = False)\n",
    "print(top.loc[:6])"
   ]
  },
  {
   "cell_type": "code",
   "execution_count": 198,
   "metadata": {},
   "outputs": [
    {
     "data": {
      "text/plain": [
       "'Задание 4\\nСоздайте датафрейм authors_stat на основе информации из authors_price. \\nВ датафрейме authors_stat должны быть четыре столбца:\\nauthor_name, min_price, max_price и mean_price,\\nв которых должны содержаться соответственно имя автора,минимальная, максимальная \\nи средняя цена на книги этого автора.'"
      ]
     },
     "execution_count": 198,
     "metadata": {},
     "output_type": "execute_result"
    }
   ],
   "source": [
    "\"\"\"Задание 4\n",
    "Создайте датафрейм authors_stat на основе информации из authors_price. \n",
    "В датафрейме authors_stat должны быть четыре столбца:\n",
    "author_name, min_price, max_price и mean_price,\n",
    "в которых должны содержаться соответственно имя автора,минимальная, максимальная \n",
    "и средняя цена на книги этого автора.\"\"\""
   ]
  },
  {
   "cell_type": "code",
   "execution_count": 199,
   "metadata": {},
   "outputs": [
    {
     "name": "stdout",
     "output_type": "stream",
     "text": [
      "The average price for Тургенев's book is 366.6666666666667\n",
      "The average price for Чехов's book is 475.0\n",
      "The average price for Островский's book is 330.0\n"
     ]
    }
   ],
   "source": [
    "for i in author_names:\n",
    "    print(f\"The average price for {i}'s book is {authors_price[authors_price.author_name == i].mean(axis = 0)['price']}\")\n"
   ]
  },
  {
   "cell_type": "code",
   "execution_count": 200,
   "metadata": {},
   "outputs": [
    {
     "data": {
      "text/plain": [
       "' Просмотрите документацию по функции pd.pivot_table с помощью вопросительного знака. \\nДля каждого автора посчитайте суммарную стоимость книг в твердой и мягкой обложке. \\nИспользуйте для этого функцию pd.pivot_table. При этом столбцы должны называться \"твердая\" и \"мягкая\", \\nа индексами должны быть фамилии авторов. Пропущенные значения стоимостей заполните нулями, \\nпри необходимости загрузите библиотеку Numpy.\\nНазовите полученный датасет book_info и сохраните его в формат pickle под названием \"book_info.pkl\". \\nЗатем загрузите из этого файла датафрейм и назовите его book_info2. Удостоверьтесь, \\nчто датафреймы book_info и book_info2 идентичны.\\n '"
      ]
     },
     "execution_count": 200,
     "metadata": {},
     "output_type": "execute_result"
    }
   ],
   "source": [
    "\"\"\"\n",
    "Задание 5**\n",
    "Создайте новый столбец в датафрейме authors_price под названием cover, в нем будут располагаться данные о том, \n",
    "какая обложка у данной книги - твердая или мягкая. В этот столбец поместите данные из следующего списка:\n",
    "['твердая', 'мягкая', 'мягкая', 'твердая', 'твердая', 'мягкая', 'мягкая']. \"\"\"\n",
    "\"\"\" Просмотрите документацию по функции pd.pivot_table с помощью вопросительного знака. \n",
    "Для каждого автора посчитайте суммарную стоимость книг в твердой и мягкой обложке. \n",
    "Используйте для этого функцию pd.pivot_table. При этом столбцы должны называться \"твердая\" и \"мягкая\", \n",
    "а индексами должны быть фамилии авторов. Пропущенные значения стоимостей заполните нулями, \n",
    "при необходимости загрузите библиотеку Numpy.\n",
    "Назовите полученный датасет book_info и сохраните его в формат pickle под названием \"book_info.pkl\". \n",
    "Затем загрузите из этого файла датафрейм и назовите его book_info2. Удостоверьтесь, \n",
    "что датафреймы book_info и book_info2 идентичны.\n",
    " \"\"\""
   ]
  },
  {
   "cell_type": "code",
   "execution_count": 201,
   "metadata": {},
   "outputs": [
    {
     "name": "stdout",
     "output_type": "stream",
     "text": [
      "cover        мягкая  твердая\n",
      "author_name                 \n",
      "Островский      660        0\n",
      "Тургенев        650      450\n",
      "Чехов             0      950\n",
      "_________________________________\n",
      "cover        мягкая  твердая\n",
      "author_name                 \n",
      "Островский      660        0\n",
      "Тургенев        650      450\n",
      "Чехов             0      950\n"
     ]
    }
   ],
   "source": [
    "authors_price.insert(4, 'cover', ['твердая', 'мягкая', 'мягкая', 'твердая', 'твердая', 'мягкая', 'мягкая'])\n",
    "#print(authors_price)\n",
    "book_info = pd.pivot_table(authors_price, values = 'price', index = 'author_name', \n",
    "                           columns = 'cover', aggfunc = np.sum, fill_value = 0)\n",
    "print(book_info)\n",
    "print(\"_\"*11*3)\n",
    "book_info.to_pickle(\"./book_info.pkl\")\n",
    "book_info2 = pd.read_pickle(\"./book_info.pkl\")\n",
    "print(book_info2)"
   ]
  },
  {
   "cell_type": "code",
   "execution_count": null,
   "metadata": {},
   "outputs": [],
   "source": []
  }
 ],
 "metadata": {
  "kernelspec": {
   "display_name": "Python 3",
   "language": "python",
   "name": "python3"
  },
  "language_info": {
   "codemirror_mode": {
    "name": "ipython",
    "version": 3
   },
   "file_extension": ".py",
   "mimetype": "text/x-python",
   "name": "python",
   "nbconvert_exporter": "python",
   "pygments_lexer": "ipython3",
   "version": "3.8.3"
  }
 },
 "nbformat": 4,
 "nbformat_minor": 4
}
